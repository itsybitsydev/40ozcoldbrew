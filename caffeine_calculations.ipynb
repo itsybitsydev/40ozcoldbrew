{
 "cells": [
  {
   "cell_type": "code",
   "execution_count": null,
   "id": "3c6590ff",
   "metadata": {},
   "outputs": [
    {
     "name": "stdout",
     "output_type": "stream",
     "text": [
      "\u001b[33mWARNING: You are using pip version 21.2.4; however, version 25.1.1 is available.\n",
      "You should consider upgrading via the '/Library/Developer/CommandLineTools/usr/bin/python3 -m pip install --upgrade pip' command.\u001b[0m\n",
      "Note: you may need to restart the kernel to use updated packages.\n"
     ]
    }
   ],
   "source": [
    "# Install dependencies for python using pip before running the script\n",
    "\n",
    "%pip install pandas -q"
   ]
  },
  {
   "cell_type": "code",
   "execution_count": null,
   "id": "376e81f4",
   "metadata": {},
   "outputs": [
    {
     "name": "stdout",
     "output_type": "stream",
     "text": [
      "[500.0, 250.0, 125.0, 150.0]\n",
      "   Fl Oz Consumed  Caffeine Content\n",
      "0            40.0             500.0\n",
      "1            20.0             250.0\n",
      "2            10.0             125.0\n",
      "3            12.0             150.0\n"
     ]
    }
   ],
   "source": [
    "# IF THE CAFFEINE SOURCE IS STARBUCKS COLD BREW\n",
    "# Assumes the Caffeine content is 150.0mg per 12 fluid ounces.\n",
    "\n",
    "# Simple Example of using Pandas table, a list comprehension, \n",
    "# and a local function in Python 3 within a Jupyter notebook to \n",
    "# help me keep track of caffeine content I consumed in the day\n",
    "\n",
    "import pandas as pd\n",
    "\n",
    "OZ_IN_COLDBREW_CONTAINER = 40\n",
    "\n",
    "def caffeine_in_starbucks_coldbrew(fl_oz_consumed):\n",
    "    '''\n",
    "    Description: Calculates caffeine content in starbucks coldbrew based on {oz_consumed} provided\n",
    "    Side Effects: None\n",
    "    Returns: caffeine content (mg) in starbucks coldbrew\n",
    "    '''\n",
    "    starbucks_coldbrew_caffeine_per_oz = 150.0 / 12.0 # 200mg caffeine in 16 fl oz (grande)\n",
    "    caffeine = starbucks_coldbrew_caffeine_per_oz * fl_oz_consumed\n",
    "    return caffeine\n",
    "\n",
    "custom_oz = 12\n",
    "data_oz_consumed: list = [\n",
    "    OZ_IN_COLDBREW_CONTAINER*1.0, \n",
    "    OZ_IN_COLDBREW_CONTAINER*0.5,\n",
    "    OZ_IN_COLDBREW_CONTAINER*0.25, \n",
    "    custom_oz]\n",
    "\n",
    "data_result_caffeine_content = [caffeine_in_starbucks_coldbrew(data_entry) for data_entry in data_oz_consumed]\n",
    "\n",
    "print(data_result_caffeine_content)\n",
    "\n",
    "table: pd.DataFrame = pd.DataFrame(\n",
    "    {\n",
    "        'Fl Oz Consumed': [*data_oz_consumed],\n",
    "        'Caffeine Content': [*data_result_caffeine_content]\n",
    "    }\n",
    ")\n",
    "\n",
    "print(table)"
   ]
  },
  {
   "cell_type": "code",
   "execution_count": null,
   "id": "8e90b6eb",
   "metadata": {},
   "outputs": [],
   "source": []
  }
 ],
 "metadata": {
  "kernelspec": {
   "display_name": "Python 3",
   "language": "python",
   "name": "python3"
  },
  "language_info": {
   "codemirror_mode": {
    "name": "ipython",
    "version": 3
   },
   "file_extension": ".py",
   "mimetype": "text/x-python",
   "name": "python",
   "nbconvert_exporter": "python",
   "pygments_lexer": "ipython3",
   "version": "3.9.6"
  }
 },
 "nbformat": 4,
 "nbformat_minor": 5
}
